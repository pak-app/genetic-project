{
 "cells": [
  {
   "cell_type": "code",
   "execution_count": 80,
   "metadata": {},
   "outputs": [],
   "source": [
    "import random\n",
    "import datetime"
   ]
  },
  {
   "cell_type": "markdown",
   "metadata": {},
   "source": [
    "<h2>Gene</h2>"
   ]
  },
  {
   "cell_type": "code",
   "execution_count": 72,
   "metadata": {},
   "outputs": [],
   "source": [
    "geneSet = \" abcdefghijklmnopqrstuvwxyzABCDEFGHIJKLMNOPQRSTUVWXYZ!.1234567890\" # our gene set (samples)\n",
    "target = \"realmadrid11\" # our password\n",
    "state_ind = list(range(len(target))) # our indexes is used in mutate_2"
   ]
  },
  {
   "cell_type": "markdown",
   "metadata": {},
   "source": [
    "<h2>Generate Parent</h2>"
   ]
  },
  {
   "cell_type": "code",
   "execution_count": 73,
   "metadata": {},
   "outputs": [],
   "source": [
    "# Create a parent\n",
    "def generate_parent(length):\n",
    "    genes = []\n",
    "    while len(genes) < length:\n",
    "        sampleSize = min(length - len(genes), len(geneSet))\n",
    "        genes.extend(random.sample(geneSet, sampleSize))\n",
    "    return ''.join(genes)"
   ]
  },
  {
   "cell_type": "markdown",
   "metadata": {},
   "source": [
    "<h2>Fitness</h2>"
   ]
  },
  {
   "cell_type": "code",
   "execution_count": 74,
   "metadata": {},
   "outputs": [],
   "source": [
    "def get_fitness(guess):\n",
    "    return sum(1 for expected, actual in zip(target, guess)\n",
    "               if expected == actual)"
   ]
  },
  {
   "cell_type": "markdown",
   "metadata": {},
   "source": [
    "<h2>Mutate</h2>"
   ]
  },
  {
   "cell_type": "markdown",
   "metadata": {},
   "source": [
    "<h3>In both mutate_1 and mutate_2 we replace a random gene into a random index but difference is in mutate_2 if our fitness became higher, we would remove that index because that gene is in right index.</h3>"
   ]
  },
  {
   "cell_type": "code",
   "execution_count": 75,
   "metadata": {},
   "outputs": [],
   "source": [
    "def mutate_1(parent):\n",
    "    index = random.randrange(0, len(parent))\n",
    "    childGenes = list(parent)\n",
    "    newGene, alternate = random.sample(geneSet, 2)\n",
    "    childGenes[int(index)] = alternate \\\n",
    "        if newGene == childGenes[index] \\\n",
    "        else newGene\n",
    "    return ''.join(childGenes)"
   ]
  },
  {
   "cell_type": "code",
   "execution_count": 76,
   "metadata": {},
   "outputs": [],
   "source": [
    "def mutate_2(parent):\n",
    "    index = random.sample(state_ind,1)[0]\n",
    "    childGenes = list(parent)\n",
    "    newGene = random.sample(geneSet, 1)[0]\n",
    "    childGenes[index] = newGene\n",
    "    return ''.join(childGenes), index"
   ]
  },
  {
   "cell_type": "markdown",
   "metadata": {},
   "source": [
    "<h2>Display</h2>"
   ]
  },
  {
   "cell_type": "code",
   "execution_count": 77,
   "metadata": {},
   "outputs": [],
   "source": [
    "def display(guess,startTime):\n",
    "    timeD = datetime.datetime.now() - startTime\n",
    "    fitness = get_fitness(guess) \n",
    "    print(\"{0}\\t{1}\\t{2}\".format(guess, fitness, str(timeD)))"
   ]
  },
  {
   "cell_type": "markdown",
   "metadata": {},
   "source": [
    "<h2>Main</h2>"
   ]
  },
  {
   "cell_type": "code",
   "execution_count": 78,
   "metadata": {},
   "outputs": [
    {
     "name": "stdout",
     "output_type": "stream",
     "text": [
      "5ihGlP1N4H o\t0\t0:00:00\n",
      "5ihGlP1N4H1o\t1\t0:00:00.000961\n",
      "rihGlP1N4H1o\t2\t0:00:00.000961\n",
      "rihGlP1N4d1o\t3\t0:00:00.000961\n",
      "rihllP1N4d1o\t4\t0:00:00.003954\n",
      "riallP1N4d1o\t5\t0:00:00.003954\n",
      "riallP1N4d11\t6\t0:00:00.003954\n",
      "riallP1r4d11\t7\t0:00:00.003954\n",
      "riallPdr4d11\t8\t0:00:00.004984\n",
      "rialmPdr4d11\t9\t0:00:00.004984\n",
      "rialmPdrid11\t10\t0:00:00.005980\n",
      "rialmadrid11\t11\t0:00:00.011963\n",
      "realmadrid11\t12\t0:00:00.021904\n",
      "2427\n"
     ]
    }
   ],
   "source": [
    "random.seed()\n",
    "startTime =  datetime.datetime.now() \n",
    "bestParent = generate_parent(len(target))\n",
    "bestFitness = get_fitness(bestParent)\n",
    "display(bestParent,startTime) \n",
    "round = 0\n",
    "while True:\n",
    "    round += 1\n",
    "    child = mutate_1(bestParent)\n",
    "    childFitness = get_fitness(child)\n",
    "    if bestFitness >= childFitness:\n",
    "        continue\n",
    "    \n",
    "    display(child,startTime)\n",
    "    if childFitness >= len(bestParent):\n",
    "        break\n",
    "    bestFitness = childFitness\n",
    "    bestParent = child\n",
    "print(round)"
   ]
  },
  {
   "cell_type": "code",
   "execution_count": 79,
   "metadata": {},
   "outputs": [
    {
     "name": "stdout",
     "output_type": "stream",
     "text": [
      "IocS7AnmqsrV\t0\t0:00:00\n",
      "Iocl7AnmqsrV\t1\t0:00:00.001996\n",
      "Iocl7Anmqs1V\t2\t0:00:00.002992\n",
      "Iocl7Anmis1V\t3\t0:00:00.002992\n",
      "rocl7Anmis1V\t4\t0:00:00.002992\n",
      "recl7Anmis1V\t5\t0:00:00.004986\n",
      "recl7Anris1V\t6\t0:00:00.004986\n",
      "recl7anris1V\t7\t0:00:00.005985\n",
      "reclmanris1V\t8\t0:00:00.007000\n",
      "reclmanrid1V\t9\t0:00:00.009008\n",
      "realmanrid1V\t10\t0:00:00.009008\n",
      "realmadrid1V\t11\t0:00:00.011002\n",
      "realmadrid11\t12\t0:00:00.011975\n",
      "979\n"
     ]
    }
   ],
   "source": [
    "random.seed()\n",
    "startTime =  datetime.datetime.now() \n",
    "bestParent = generate_parent(len(target))\n",
    "bestFitness = get_fitness(bestParent)\n",
    "display(bestParent,startTime) \n",
    "round = 0\n",
    "while True:\n",
    "    round += 1\n",
    "    child ,ind= mutate_2(bestParent)\n",
    "    childFitness = get_fitness(child)\n",
    "    if bestFitness >= childFitness:\n",
    "        continue\n",
    "    state_ind.remove(ind)\n",
    "    display(child,startTime)\n",
    "    if state_ind == []:\n",
    "        break\n",
    "    bestFitness = childFitness\n",
    "    bestParent = child\n",
    "print(round)"
   ]
  },
  {
   "cell_type": "markdown",
   "metadata": {},
   "source": [
    "<h2>Compare Results!!!!!!!!!!</h2>"
   ]
  }
 ],
 "metadata": {
  "kernelspec": {
   "display_name": "Python 3.10.1 ('MLEnv')",
   "language": "python",
   "name": "python3"
  },
  "language_info": {
   "codemirror_mode": {
    "name": "ipython",
    "version": 3
   },
   "file_extension": ".py",
   "mimetype": "text/x-python",
   "name": "python",
   "nbconvert_exporter": "python",
   "pygments_lexer": "ipython3",
   "version": "3.10.1"
  },
  "orig_nbformat": 4,
  "vscode": {
   "interpreter": {
    "hash": "57ab81a696ca7f53b826f8a8ffc63a06965e37d4b1f695a8306ef72f7cc8b61f"
   }
  }
 },
 "nbformat": 4,
 "nbformat_minor": 2
}
